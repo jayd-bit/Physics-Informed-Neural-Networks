{
  "nbformat": 4,
  "nbformat_minor": 0,
  "metadata": {
    "colab": {
      "provenance": [],
      "authorship_tag": "ABX9TyOmAMoceLVrlI/S2DxF9/jt",
      "include_colab_link": true
    },
    "kernelspec": {
      "name": "python3",
      "display_name": "Python 3"
    },
    "language_info": {
      "name": "python"
    }
  },
  "cells": [
    {
      "cell_type": "markdown",
      "metadata": {
        "id": "view-in-github",
        "colab_type": "text"
      },
      "source": [
        "<a href=\"https://colab.research.google.com/github/jayd-bit/BooleanAutocrats/blob/master/PINN.ipynb\" target=\"_parent\"><img src=\"https://colab.research.google.com/assets/colab-badge.svg\" alt=\"Open In Colab\"/></a>"
      ]
    },
    {
      "cell_type": "code",
      "execution_count": null,
      "metadata": {
        "id": "IPGfqUkuXtQu"
      },
      "outputs": [],
      "source": [
        "import torch\n",
        "import torch.nn as nn\n",
        "import numpy as np\n",
        "import matplotlib.pyplot as plt"
      ]
    },
    {
      "cell_type": "code",
      "source": [
        "# --------------------------\n",
        "# 1. Generate Synthetic Data\n",
        "# --------------------------\n",
        "\n",
        "# Import required libraries\n",
        "import numpy as np\n",
        "import torch\n",
        "\n",
        "# Physics parameters\n",
        "g = 9.8        # acceleration due to gravity\n",
        "h0 = 1.0       # initial height\n",
        "v0 = 10.0      # initial velocity\n",
        "\n",
        "# True (analytical) solution h(t) = h0 + v0*t - 0.5*g*t^2\n",
        "def true_solution(t):\n",
        "    return h0 + v0*t - 0.5*g*(t**2)\n",
        "\n",
        "# Generate some time points\n",
        "t_min, t_max = 0.0, 2.0\n",
        "N_data = 10\n",
        "t_data = np.linspace(t_min, t_max, N_data)\n",
        "\n",
        "# Generate synthetic \"experimental\" heights with noise\n",
        "np.random.seed(0)\n",
        "noise_level = 0.7\n",
        "h_data_exact = true_solution(t_data)\n",
        "h_data_noisy = h_data_exact + noise_level*np.random.randn(N_data)\n",
        "\n",
        "# Convert to PyTorch tensors\n",
        "t_data_tensor = torch.tensor(t_data, dtype=torch.float32).view(-1, 1)\n",
        "h_data_tensor = torch.tensor(h_data_noisy, dtype=torch.float32).view(-1, 1)\n",
        "\n",
        "print(\"t_data_tensor shape:\", t_data_tensor.shape)\n",
        "print(\"h_data_tensor shape:\", h_data_tensor.shape)\n"
      ],
      "metadata": {
        "colab": {
          "base_uri": "https://localhost:8080/"
        },
        "id": "NwmyUqtvoMA9",
        "outputId": "a006e852-5a85-4117-ba15-edd615ea0e32"
      },
      "execution_count": null,
      "outputs": [
        {
          "output_type": "stream",
          "name": "stdout",
          "text": [
            "t_data_tensor shape: torch.Size([10, 1])\n",
            "h_data_tensor shape: torch.Size([10, 1])\n"
          ]
        }
      ]
    },
    {
      "cell_type": "code",
      "source": [
        "# --------------------------------------------------------\n",
        "# 2. Define a small feed-forward neural network for h(t)\n",
        "# --------------------------------------------------------\n",
        "\n",
        "# Import torch.nn\n",
        "import torch\n",
        "import torch.nn as nn\n",
        "\n",
        "class PINN(nn.Module):\n",
        "    def __init__(self, n_hidden=20):\n",
        "        super(PINN, self).__init__()\n",
        "        # A simple MLP with 2 hidden layers\n",
        "        self.net = nn.Sequential(\n",
        "            nn.Linear(1, n_hidden),\n",
        "            nn.Tanh(),\n",
        "            nn.Linear(n_hidden, n_hidden),\n",
        "            nn.Tanh(),\n",
        "            nn.Linear(n_hidden, 1)\n",
        "        )\n",
        "\n",
        "    def forward(self, t):\n",
        "        \"\"\"\n",
        "        Forward pass: input shape (batch_size, 1) -> output shape (batch_size, 1)\n",
        "        \"\"\"\n",
        "        return self.net(t)\n",
        "\n",
        "# Instantiate the model\n",
        "model = PINN(n_hidden=20)\n",
        "\n",
        "# Quick test\n",
        "t_test = torch.tensor([[0.0], [1.0], [2.0]])\n",
        "print(\"Predicted h(t):\", model(t_test))\n"
      ],
      "metadata": {
        "colab": {
          "base_uri": "https://localhost:8080/"
        },
        "id": "dfWy318po2VU",
        "outputId": "2933eb27-883a-4945-ccff-7b1b559cf45e"
      },
      "execution_count": null,
      "outputs": [
        {
          "output_type": "stream",
          "name": "stdout",
          "text": [
            "Predicted h(t): tensor([[0.1050],\n",
            "        [0.2262],\n",
            "        [0.3204]], grad_fn=<AddmmBackward0>)\n"
          ]
        }
      ]
    },
    {
      "cell_type": "code",
      "source": [
        "# --------------------------------\n",
        "# 3. Helper for Automatic Diff\n",
        "# --------------------------------\n",
        "def derivative(y, x):\n",
        "    \"\"\"\n",
        "    Computes dy/dx using PyTorch's autograd.\n",
        "    y and x must be tensors with requires_grad=True for x.\n",
        "    \"\"\"\n",
        "    return torch.autograd.grad(\n",
        "        y, x,\n",
        "        grad_outputs=torch.ones_like(y),\n",
        "        create_graph=True\n",
        "    )[0]"
      ],
      "metadata": {
        "id": "-1H9HUIcprNS"
      },
      "execution_count": null,
      "outputs": []
    },
    {
      "cell_type": "code",
      "source": [
        "# ----------------------------------------\n",
        "# 4. Define the Loss Components (PINN)\n",
        "# ----------------------------------------\n",
        "\n",
        "# We have:\n",
        "#    (1) Data loss (fit noisy data)\n",
        "#    (2) ODE loss: dh/dt = v0 - g * t\n",
        "#    (3) Initial condition loss: h(0) = h0\n",
        "\n",
        "def physics_loss(model, t):\n",
        "    \"\"\"\n",
        "    Compare d(h_pred)/dt with the known expression (v0 - g t).\n",
        "    \"\"\"\n",
        "    # t must have requires_grad = True for autograd to work\n",
        "    t.requires_grad_(True)\n",
        "\n",
        "    h_pred = model(t)\n",
        "    dh_dt_pred = derivative(h_pred, t)\n",
        "\n",
        "    # For each t, physics says dh/dt = v0 - g * t\n",
        "    dh_dt_true = v0 - g * t\n",
        "\n",
        "    loss_ode = torch.mean((dh_dt_pred - dh_dt_true)**2)\n",
        "    return loss_ode\n",
        "\n",
        "def initial_condition_loss(model):\n",
        "    \"\"\"\n",
        "    Enforce h(0) = h0.\n",
        "    \"\"\"\n",
        "    # Evaluate at t=0\n",
        "    t0 = torch.zeros(1, 1, dtype=torch.float32, requires_grad=False)\n",
        "    h0_pred = model(t0)\n",
        "    return (h0_pred - h0).pow(2).mean()\n",
        "\n",
        "def data_loss(model, t_data, h_data):\n",
        "    \"\"\"\n",
        "    MSE between predicted h(t_i) and noisy measurements h_data.\n",
        "    \"\"\"\n",
        "    h_pred = model(t_data)\n",
        "    return torch.mean((h_pred - h_data)**2)"
      ],
      "metadata": {
        "id": "eqfeFKaUp32B"
      },
      "execution_count": null,
      "outputs": []
    },
    {
      "cell_type": "code",
      "source": [
        "# ---------------------------------------\n",
        "# 5. Training Setup\n",
        "# ---------------------------------------\n",
        "optimizer = torch.optim.Adam(model.parameters(), lr=0.01)\n",
        "\n",
        "# Hyperparameters for weighting the loss terms\n",
        "lambda_data = 2.0\n",
        "lambda_ode  = 20.0\n",
        "lambda_ic   = 20.0\n",
        "\n",
        "# For logging\n",
        "num_epochs = 4000\n",
        "print_every = 200"
      ],
      "metadata": {
        "id": "VzCV_Xb-qCKX"
      },
      "execution_count": null,
      "outputs": []
    },
    {
      "cell_type": "code",
      "source": [
        "# ---------------------------------------\n",
        "# 6. Training Loop\n",
        "# ---------------------------------------\n",
        "\n",
        "model.train()\n",
        "for epoch in range(num_epochs):\n",
        "    optimizer.zero_grad()\n",
        "\n",
        "    # Compute losses\n",
        "    l_data = data_loss(model, t_data_tensor, h_data_tensor)\n",
        "    l_ode  = physics_loss(model, t_data_tensor)\n",
        "    l_ic   = initial_condition_loss(model)\n",
        "\n",
        "    # Combined loss\n",
        "    loss = lambda_data * l_data + lambda_ode * l_ode + lambda_ic * l_ic\n",
        "\n",
        "    # Backpropagation\n",
        "    loss.backward()\n",
        "    optimizer.step()\n",
        "\n",
        "    # Print progress\n",
        "    if (epoch+1) % print_every == 0:\n",
        "        print(f\"Epoch {epoch+1}/{num_epochs}, \"\n",
        "              f\"Total Loss = {loss.item():.6f}, \"\n",
        "              f\"Data Loss = {l_data.item():.6f}, \"\n",
        "              f\"ODE Loss = {l_ode.item():.6f}, \"\n",
        "              f\"IC Loss = {l_ic.item():.6f}\")\n"
      ],
      "metadata": {
        "colab": {
          "base_uri": "https://localhost:8080/"
        },
        "id": "5fPagVEYqZyR",
        "outputId": "1be5507c-da9a-429c-ad82-c553a98d43ff"
      },
      "execution_count": null,
      "outputs": [
        {
          "output_type": "stream",
          "name": "stdout",
          "text": [
            "Epoch 200/4000, Total Loss = 1.310937, Data Loss = 0.621585, ODE Loss = 0.001920, IC Loss = 0.001468\n",
            "Epoch 400/4000, Total Loss = 1.292130, Data Loss = 0.615743, ODE Loss = 0.001632, IC Loss = 0.001401\n",
            "Epoch 600/4000, Total Loss = 1.271312, Data Loss = 0.608945, ODE Loss = 0.001368, IC Loss = 0.001303\n",
            "Epoch 800/4000, Total Loss = 1.245379, Data Loss = 0.599184, ODE Loss = 0.001182, IC Loss = 0.001169\n",
            "Epoch 1000/4000, Total Loss = 1.206729, Data Loss = 0.584342, ODE Loss = 0.000949, IC Loss = 0.000954\n",
            "Epoch 1200/4000, Total Loss = 1.153247, Data Loss = 0.564535, ODE Loss = 0.000578, IC Loss = 0.000630\n",
            "Epoch 1400/4000, Total Loss = 1.113640, Data Loss = 0.550273, ODE Loss = 0.000330, IC Loss = 0.000325\n",
            "Epoch 1600/4000, Total Loss = 1.104237, Data Loss = 0.546889, ODE Loss = 0.000329, IC Loss = 0.000194\n",
            "Epoch 1800/4000, Total Loss = 1.102661, Data Loss = 0.546220, ODE Loss = 0.000345, IC Loss = 0.000166\n",
            "Epoch 2000/4000, Total Loss = 1.101609, Data Loss = 0.545586, ODE Loss = 0.000353, IC Loss = 0.000169\n",
            "Epoch 2200/4000, Total Loss = 1.100948, Data Loss = 0.544359, ODE Loss = 0.000410, IC Loss = 0.000201\n",
            "Epoch 2400/4000, Total Loss = 1.099477, Data Loss = 0.544599, ODE Loss = 0.000352, IC Loss = 0.000162\n",
            "Epoch 2600/4000, Total Loss = 1.098565, Data Loss = 0.544132, ODE Loss = 0.000353, IC Loss = 0.000162\n",
            "Epoch 2800/4000, Total Loss = 1.102115, Data Loss = 0.540689, ODE Loss = 0.000725, IC Loss = 0.000312\n",
            "Epoch 3000/4000, Total Loss = 1.096256, Data Loss = 0.542949, ODE Loss = 0.000358, IC Loss = 0.000160\n",
            "Epoch 3200/4000, Total Loss = 1.094852, Data Loss = 0.542273, ODE Loss = 0.000358, IC Loss = 0.000157\n",
            "Epoch 3400/4000, Total Loss = 1.365514, Data Loss = 0.567903, ODE Loss = 0.010733, IC Loss = 0.000752\n",
            "Epoch 3600/4000, Total Loss = 1.089453, Data Loss = 0.539493, ODE Loss = 0.000366, IC Loss = 0.000157\n",
            "Epoch 3800/4000, Total Loss = 1.084506, Data Loss = 0.537161, ODE Loss = 0.000365, IC Loss = 0.000144\n",
            "Epoch 4000/4000, Total Loss = 1.073143, Data Loss = 0.531653, ODE Loss = 0.000349, IC Loss = 0.000142\n"
          ]
        }
      ]
    },
    {
      "cell_type": "code",
      "source": [
        "# ---------------------------------------\n",
        "# 7. Evaluate the Trained Model\n",
        "# ---------------------------------------\n",
        "model.eval()\n",
        "t_plot = np.linspace(t_min, t_max, 100).reshape(-1, 1).astype(np.float32)\n",
        "t_plot_tensor = torch.tensor(t_plot, requires_grad=True)\n",
        "h_pred_plot = model(t_plot_tensor).detach().numpy()\n",
        "\n",
        "# True solution (for comparison)\n",
        "h_true_plot = true_solution(t_plot)\n",
        "\n",
        "# Plot results\n",
        "plt.figure(figsize=(8, 5))\n",
        "plt.scatter(t_data, h_data_noisy, color='red', label='Noisy Data')\n",
        "plt.plot(t_plot, h_true_plot, 'k--', label='Exact Solution')\n",
        "plt.plot(t_plot, h_pred_plot, 'b', label='PINN Prediction')\n",
        "plt.xlabel('t')\n",
        "plt.ylabel('h(t)')\n",
        "plt.legend()\n",
        "plt.title('PINN for Ball Trajectory')\n",
        "plt.grid(True)\n",
        "plt.show()"
      ],
      "metadata": {
        "colab": {
          "base_uri": "https://localhost:8080/",
          "height": 487
        },
        "id": "1203w-swrYXj",
        "outputId": "622ca192-5e56-4007-f09e-f03b7124c937"
      },
      "execution_count": null,
      "outputs": [
        {
          "output_type": "display_data",
          "data": {
            "text/plain": [
              "<Figure size 800x500 with 1 Axes>"
            ],
            "image/png": "[encoded data removed]"
          },
          "metadata": {}
        }
      ]
    }
  ]
}
